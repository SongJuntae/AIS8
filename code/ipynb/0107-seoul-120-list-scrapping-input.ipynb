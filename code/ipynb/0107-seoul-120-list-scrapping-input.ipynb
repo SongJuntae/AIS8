{
 "cells": [
  {
   "cell_type": "markdown",
   "metadata": {
    "id": "i0hSNDK8mWmR"
   },
   "source": [
    "# 서울특별시 다산콜센터(☎120)의 주요 민원\n",
    "* 서울특별시 다산콜센터(☎120)의 주요 민원(자주 묻는 질문)에 대한 답변정보\n",
    "* https://opengov.seoul.go.kr/civilappeal/list"
   ]
  },
  {
   "cell_type": "code",
   "execution_count": null,
   "metadata": {
    "id": "-tZ-akjFmWmc"
   },
   "outputs": [],
   "source": [
    "# pandas : 파이썬에서 사용할 수 있는 엑셀과 유사한 데이터분석 도구\n",
    "# numpy : 파이썬에서 사용할 수 있는 공학용 계산기\n",
    "# requests : 매우 작은 브라우저로 웹사이트의 내용과 정보를 불러옴\n",
    "# BeautifulSoup : requests로 가져온 웹사이트의 html 태그를 찾기위해 사용\n",
    "# time : 간격을 두고 가져오기 위해 사용\n"
   ]
  },
  {
   "cell_type": "code",
   "execution_count": null,
   "metadata": {
    "colab": {
     "base_uri": "https://localhost:8080/"
    },
    "id": "S1eD-iAxmWmi",
    "outputId": "cc4321e9-a65a-4fd9-ab24-8ed1f0110b48"
   },
   "outputs": [],
   "source": [
    "# 120 다산 콜센터의 첫 페이지를 먼저 불러와 크롤링할 내용을 봅니다.\n",
    "base_url = \"https://opengov.seoul.go.kr/civilappeal/list?items_per_page=50&page=1\"\n",
    "print(base_url)"
   ]
  },
  {
   "cell_type": "code",
   "execution_count": null,
   "metadata": {
    "colab": {
     "base_uri": "https://localhost:8080/",
     "height": 1000
    },
    "id": "mzBOwO9cmWmj",
    "outputId": "e2e1cfc6-3fe1-4b25-84c7-6ac0b52a2f4a"
   },
   "outputs": [],
   "source": [
    "# pd.read_html 을 통해 해당 URL의 table 정보를 읽어옵니다.\n",
    "# table"
   ]
  },
  {
   "cell_type": "markdown",
   "metadata": {
    "id": "Aj3C1a1FmWmk"
   },
   "source": [
    "## 상세정보를 위한 링크정보 수집\n",
    "* get : 필요한 데이터를 Query String 에 담아 전송\n",
    "* post : 전송할 데이터를 HTTP 메시지의 Body의 Form Data에 담아 전송\n",
    "\n",
    "* get 과 post 여부는 브라우저의 네트워크 탭의 Headers > Request Method 를 통해 확인"
   ]
  },
  {
   "cell_type": "code",
   "execution_count": null,
   "metadata": {
    "id": "31jt59yWmWml"
   },
   "outputs": [],
   "source": [
    "# 웹페이지의 결과를 받아옵니다.\n",
    "# response"
   ]
  },
  {
   "cell_type": "code",
   "execution_count": null,
   "metadata": {
    "colab": {
     "base_uri": "https://localhost:8080/"
    },
    "id": "gHM1qG2amWmn",
    "outputId": "3ba0c596-1cc9-44ea-b246-ec59a1de8d1a"
   },
   "outputs": [],
   "source": [
    "# status_code를 통한 응답코드 확인 200 == OK\n"
   ]
  },
  {
   "cell_type": "markdown",
   "metadata": {
    "id": "MhoFfTAdmWmp"
   },
   "source": [
    "## BeautifulSoup 을 통해 html 페이지를 읽기 쉽게 만들기"
   ]
  },
  {
   "cell_type": "code",
   "execution_count": null,
   "metadata": {
    "id": "S0otMTyTmWmr",
    "scrolled": false
   },
   "outputs": [],
   "source": [
    "# html 태그를 파싱해 올 수 있도록 합니다.\n"
   ]
  },
  {
   "cell_type": "markdown",
   "metadata": {
    "id": "074PExiUmWms"
   },
   "source": [
    "## 상세 정보 수집을 위한 링크 정보 찾기"
   ]
  },
  {
   "cell_type": "code",
   "execution_count": null,
   "metadata": {
    "id": "C_Y6oMURmWmt"
   },
   "outputs": [],
   "source": [
    "# BeautifulSoup 의 select 기능을 통한 링크 태그 찾기\n",
    "# a 태그 안의 상세 페이지 접근을 위한 링크 번호 수집\n",
    "# a_list"
   ]
  },
  {
   "cell_type": "code",
   "execution_count": null,
   "metadata": {
    "colab": {
     "base_uri": "https://localhost:8080/",
     "height": 35
    },
    "id": "UbUP4MfG1xj5",
    "outputId": "dfbc521d-0ee6-4fb7-cc65-b09d5bce59f2"
   },
   "outputs": [],
   "source": [
    "# 링크 정보 가져오기\n",
    "# 내용 번호 가져오기 위해 / 로 문자열 나누기\n",
    "# 나눈 문자에서 마지막 값만 가져오면 게시물 내용 번호가 됨\n"
   ]
  },
  {
   "cell_type": "code",
   "execution_count": null,
   "metadata": {
    "colab": {
     "base_uri": "https://localhost:8080/"
    },
    "id": "03aYdgM-176h",
    "outputId": "363d6ad8-e276-40a2-aeb9-8e070151cda4"
   },
   "outputs": [],
   "source": [
    "\n"
   ]
  },
  {
   "cell_type": "code",
   "execution_count": null,
   "metadata": {
    "colab": {
     "base_uri": "https://localhost:8080/",
     "height": 35
    },
    "id": "OPSaXo-z1-Zl",
    "outputId": "cbaeb254-41f3-41ab-cf0e-e586522d13a8"
   },
   "outputs": [],
   "source": [
    "\n"
   ]
  },
  {
   "cell_type": "code",
   "execution_count": null,
   "metadata": {
    "id": "9SRtoV-02ZcK"
   },
   "outputs": [],
   "source": [
    "# a_link_no 에 내용번호만 수집해서 반복문으로 리스트 만들기\n",
    "a_link_no = []\n"
   ]
  },
  {
   "cell_type": "code",
   "execution_count": null,
   "metadata": {
    "id": "FJXui7CemWmu"
   },
   "outputs": [],
   "source": [
    "# a_link_no 를 \"내용번호\" 컬럼을 생성해서 넣어줍니다.\n"
   ]
  },
  {
   "cell_type": "code",
   "execution_count": null,
   "metadata": {
    "colab": {
     "base_uri": "https://localhost:8080/",
     "height": 1000
    },
    "id": "Oj9b8thZ2reH",
    "outputId": "77d49927-c10d-4901-d7bd-7d4e4daf8ec8"
   },
   "outputs": [],
   "source": []
  },
  {
   "cell_type": "markdown",
   "metadata": {
    "id": "PGyWaeKQmWmv"
   },
   "source": [
    "## 특정 페이지를 수집하는 함수 만들기\n",
    "\n",
    "* 예외처리 : [05-4 예외 처리 - 점프 투 파이썬](https://wikidocs.net/30)"
   ]
  },
  {
   "cell_type": "code",
   "execution_count": null,
   "metadata": {
    "id": "e6aPvrMimWmw"
   },
   "outputs": [],
   "source": [
    "def get_one_page(page_no):\n",
    "    \"\"\"\n",
    "    120 주요질문의 특정 페이지 목록을 수집\n",
    "    1) page_no 마다 url이 변경되게 f-string 을 사용해 만든다.\n",
    "    2) requests 를 사용해서 요청을 보내고 응답을 받는다.\n",
    "    3) pd.read_html 을 사용해서 table tag로 게시물을 읽어온다.\n",
    "    4) 3번 결과에서 0번 인덱스를 가져와 데이터프레임으로 목록의 내용을 만든다.\n",
    "    5) html tag를 parsing할 수 있게 bs 형태로 만든다.\n",
    "    6) 목록 안에 있는 a tag를 찾는다.\n",
    "    7) a tag 안에서 string 을 분리해서 내용번호만 리스트 형태로 만든다.\n",
    "    8) 4)의 결과에 \"내용번호\"라는 컬럼을 만들고 a tag의 리스트를 추가한다.\n",
    "    9) 없는 페이지번호가 들어왔을 때의 오류에 대처한다.\n",
    "    10) 반환값을 지정한다.\n",
    "    \"\"\""
   ]
  },
  {
   "cell_type": "code",
   "execution_count": null,
   "metadata": {
    "colab": {
     "base_uri": "https://localhost:8080/",
     "height": 112
    },
    "id": "uSjJU7d4mWmw",
    "outputId": "c07579ed-80bf-445b-cc12-e4788588ec3b"
   },
   "outputs": [],
   "source": [
    "# 함수가 잘 동작하는지 확인\n"
   ]
  },
  {
   "cell_type": "code",
   "execution_count": null,
   "metadata": {
    "colab": {
     "base_uri": "https://localhost:8080/",
     "height": 35
    },
    "id": "vBIESjmcmWmx",
    "outputId": "6285e1f6-bb9d-4d54-d0ca-46c52f8b40a4"
   },
   "outputs": [],
   "source": [
    "# 없는 페이지도 확인\n"
   ]
  },
  {
   "cell_type": "markdown",
   "metadata": {
    "id": "psP3ayGNmWmy"
   },
   "source": [
    "## 반복문(while)을 통한 여러 페이지 수집하기\n",
    "\n",
    "* 게시물이 없을 때까지 수집하기"
   ]
  },
  {
   "cell_type": "code",
   "execution_count": null,
   "metadata": {
    "colab": {
     "base_uri": "https://localhost:8080/"
    },
    "id": "Y9Nm23cwmWmz",
    "outputId": "2441f8cc-5ef2-434b-e2a4-427302eb9635"
   },
   "outputs": [],
   "source": [
    "# time.sleep을 통해 일정 간격 쉬었다가 가져옵니다.\n",
    "# 게시물이 없으면 멈춥니다.\n",
    "page_no = 1\n",
    "table_list = []\n",
    "\n"
   ]
  },
  {
   "cell_type": "markdown",
   "metadata": {
    "id": "QhPPgNFkmWm0"
   },
   "source": [
    "## 데이터 병합하기"
   ]
  },
  {
   "cell_type": "code",
   "execution_count": null,
   "metadata": {
    "colab": {
     "base_uri": "https://localhost:8080/"
    },
    "id": "VKMw9FwbmWm0",
    "outputId": "22929972-54ba-458c-f28e-6543ab4f244d"
   },
   "outputs": [],
   "source": [
    "# 여러 페이지의 내용을 하나로 병합합니다.\n",
    "df "
   ]
  },
  {
   "cell_type": "markdown",
   "metadata": {
    "id": "xiCgHH9_mWm1"
   },
   "source": [
    "## 데이터 파일로 저장하기"
   ]
  },
  {
   "cell_type": "code",
   "execution_count": null,
   "metadata": {
    "id": "GNTdyj5XmWm2"
   },
   "outputs": [],
   "source": [
    "# 저장할 파일명\n",
    "file_name = \"seoul-120-list.csv\""
   ]
  },
  {
   "cell_type": "code",
   "execution_count": null,
   "metadata": {
    "id": "ToEgZH35mWm3"
   },
   "outputs": [],
   "source": [
    "# CSV 파일로 저장하기\n"
   ]
  },
  {
   "cell_type": "code",
   "execution_count": null,
   "metadata": {
    "colab": {
     "base_uri": "https://localhost:8080/",
     "height": 424
    },
    "id": "2OBBf4G-mWm4",
    "outputId": "1e8e27a6-7f6a-4a9f-ab39-dacb9bff8050"
   },
   "outputs": [],
   "source": [
    "# 저장한 파일 확인\n"
   ]
  },
  {
   "cell_type": "code",
   "execution_count": null,
   "metadata": {
    "id": "ftkTe0aTmWm4"
   },
   "outputs": [],
   "source": []
  }
 ],
 "metadata": {
  "colab": {
   "provenance": [],
   "toc_visible": true
  },
  "kernelspec": {
   "display_name": "Python 3",
   "language": "python",
   "name": "python3"
  },
  "language_info": {
   "codemirror_mode": {
    "name": "ipython",
    "version": 3
   },
   "file_extension": ".py",
   "mimetype": "text/x-python",
   "name": "python",
   "nbconvert_exporter": "python",
   "pygments_lexer": "ipython3",
   "version": "3.8.5 (default, Jul 28 2020, 12:59:40) \n[GCC 9.3.0]"
  },
  "toc": {
   "base_numbering": 1,
   "nav_menu": {},
   "number_sections": true,
   "sideBar": true,
   "skip_h1_title": false,
   "title_cell": "Table of Contents",
   "title_sidebar": "Contents",
   "toc_cell": false,
   "toc_position": {},
   "toc_section_display": true,
   "toc_window_display": false
  },
  "varInspector": {
   "cols": {
    "lenName": 16,
    "lenType": 16,
    "lenVar": 40
   },
   "kernels_config": {
    "python": {
     "delete_cmd_postfix": "",
     "delete_cmd_prefix": "del ",
     "library": "var_list.py",
     "varRefreshCmd": "print(var_dic_list())"
    },
    "r": {
     "delete_cmd_postfix": ") ",
     "delete_cmd_prefix": "rm(",
     "library": "var_list.r",
     "varRefreshCmd": "cat(var_dic_list()) "
    }
   },
   "types_to_exclude": [
    "module",
    "function",
    "builtin_function_or_method",
    "instance",
    "_Feature"
   ],
   "window_display": false
  },
  "vscode": {
   "interpreter": {
    "hash": "916dbcbb3f70747c44a77c7bcd40155683ae19c65e1c03b4aa3499c5328201f1"
   }
  }
 },
 "nbformat": 4,
 "nbformat_minor": 1
}
