{
 "cells": [
  {
   "cell_type": "markdown",
   "metadata": {
    "id": "Jvs8dfiI2wSi"
   },
   "source": [
    "## Open API\n",
    "\n",
    "### API란?\n",
    "* Application Programming Interface의 약어입니다.\n",
    "* 서로 다른 사양의 컴퓨터나 컴퓨터 프로그램이 데이터를 주고받을 수 있도록 하는 도구입니다.\n",
    "* 예제에서는 사용자가 서울 열린데이터 광장의 서버에서 데이터를 요청할 수 있게 합니다.\n",
    "* https://ko.wikipedia.org/wiki/API\n",
    "\n",
    "### Open API\n",
    "* Open API는 개발자라면 누구나 사용할 수 있도록 공개된 API를 의미합니다.\n",
    "* 서울 열린데이터 광장에서는 Open API를 제공하여 사용자들이 데이터에 편리하게 접근할 수 있도록 하고 있습니다."
   ]
  },
  {
   "cell_type": "markdown",
   "metadata": {
    "id": "XvRRtWBV2wSl"
   },
   "source": [
    "<html><head></head><body><font color = 'red'><strong>▶메타정보</strong></font><table border = '1'><tbody><tr><th scope = 'row' bgcolor = '#cccccc'>공공정보명</th><td>120상담정보</td><th scope = 'row' bgcolor = '#cccccc'>서비스명</th><td>서울시 다산콜센터 자주묻는질문 목록 조회</td></tr><tr><th scope = 'row' bgcolor = '#cccccc'>서비스설명</th><td colspan = '3'>서울시 및 자치구에서 수행하는 정책</td></tr></table></html>\n",
    "  \n",
    "  \n",
    "    \n",
    "* [오픈 API 이용안내> 이용안내 | 서울열린데이터광장](https://data.seoul.go.kr/together/guide/useGuide.do)\n",
    "* https://data.seoul.go.kr/dataList/OA-1127/S/1/datasetView.do"
   ]
  },
  {
   "cell_type": "markdown",
   "metadata": {
    "id": "-9kCOiFe2wSm"
   },
   "source": [
    "## 라이브러리 로드"
   ]
  },
  {
   "cell_type": "code",
   "execution_count": null,
   "metadata": {
    "id": "jfr2rRuGgLI1"
   },
   "outputs": [],
   "source": [
    "# read_xml 사용을 위해서는 pandas 1.3.5 이상의 버전을 사용해야 합니다.\n",
    "# !pip install pandas -U"
   ]
  },
  {
   "cell_type": "code",
   "execution_count": null,
   "metadata": {
    "id": "NM6YtS7S2wSm"
   },
   "outputs": [],
   "source": [
    "# pandas : 파이썬에서 사용할 수 있는 엑셀과 유사한 데이터분석 도구입니다.\n",
    "# requests : 매우 작은 브라우저로 웹사이트의 내용과 정보를 불러옵니다.\n",
    "# BeautifulSoup : request로 가져온 웹사이트의 html 태그를 찾기 위해 사용합니다.\n",
    "import pandas as pd\n",
    "import requests\n",
    "from bs4 import BeautifulSoup as bs"
   ]
  },
  {
   "cell_type": "code",
   "execution_count": null,
   "metadata": {},
   "outputs": [],
   "source": [
    "# 판다스 버전을 확인합니다.\n",
    "pd.__version__"
   ]
  },
  {
   "cell_type": "code",
   "execution_count": null,
   "metadata": {
    "id": "zKjm8d9c2wSn",
    "outputId": "92429508-92dc-4132-b3a2-7bc54a26e46e"
   },
   "outputs": [],
   "source": [
    "# \"서울시 다산콜센터 자주묻는질문 목록\" 데이터의 메타정보를 담은 페이지를 url 변수에 담아줍니다.\n",
    "# pd.read_html 을 통해 해당 URL의 table 정보를 읽어옵니다.\n",
    "# DataFrame의 0행을 인덱스로 만듭니다.\n",
    "# 행을 열으로, 열을 행으로 작성하여 바꾸어줍니다. pandas.DataFrame.transpose와 동일합니다.\n",
    "api_document_url = \"https://data.seoul.go.kr/dataList/OA-1127/S/1/datasetView.do\"\n",
    "# df_api_doc "
   ]
  },
  {
   "cell_type": "code",
   "execution_count": null,
   "metadata": {
    "id": "KN8M2gxk2wSo",
    "outputId": "54a38277-6e29-4a6f-9edb-9f7097939db1"
   },
   "outputs": [],
   "source": [
    "# df_api_doc 1행의 라이선스를 출력합니다.\n"
   ]
  },
  {
   "cell_type": "markdown",
   "metadata": {
    "id": "K4WyyY6-2wSo"
   },
   "source": [
    "## 수집할 URL"
   ]
  },
  {
   "cell_type": "code",
   "execution_count": null,
   "metadata": {},
   "outputs": [],
   "source": [
    "# 인증키 설정\n",
    "# auth_key"
   ]
  },
  {
   "cell_type": "code",
   "execution_count": null,
   "metadata": {
    "id": "v84gYLrx2wSp"
   },
   "outputs": [],
   "source": [
    "# 발급받은 API 키를 auth_key 변수에 담아줍니다.\n",
    "# 요청할 url에 API 키를 삽입하여 faq_url 변수에 담아줍니다.\n",
    "faq_url = f\"http://openAPI.seoul.go.kr:8088/{auth_key}/xml/SearchFAQService/1/999/F\""
   ]
  },
  {
   "cell_type": "markdown",
   "metadata": {
    "id": "NZzaM70O2wSq"
   },
   "source": [
    "## HTTP 요청으로 목록 수집\n",
    "\n",
    "```\n",
    "<row>\n",
    "<FAQ_TP>S</FAQ_TP>\n",
    "<FAQ_SEQNO>289515</FAQ_SEQNO>\n",
    "<FAQ_TP_NAME>서울시 업무매뉴얼</FAQ_TP_NAME>\n",
    "<LCODE>22214335</LCODE>\n",
    "<LCODE_NAME>수송및교통</LCODE_NAME>\n",
    "<QUEST>차 없는 거리_종로</QUEST>\n",
    "<UPDATE_YMDHMS>20200414143921</UPDATE_YMDHMS>\n",
    "</row>\n",
    "```"
   ]
  },
  {
   "cell_type": "code",
   "execution_count": null,
   "metadata": {
    "id": "IOUQQWYD2wSr"
   },
   "outputs": [],
   "source": [
    "# API 키를 이용해 결과를 받아옵니다.\n",
    "# result"
   ]
  },
  {
   "cell_type": "markdown",
   "metadata": {
    "id": "9L6vpPQj2wSr"
   },
   "source": [
    "## XML 데이터 해석\n",
    "\n",
    "### XML이란?\n",
    "* eXtensible Markup Language의 약어입니다.\n",
    "* 인터넷 상에서 구조화된 데이터를 전송하기 위해 만들어진 형식입니다.\n",
    "* XML은 주로 다른 종류의 시스템, 특히 인터넷에 연결된 시스템끼리 데이터를 쉽게 주고 받을 수 있게 하여 HTML의 한계를 극복할 목적으로 만들어졌습니다.\n",
    "* https://ko.wikipedia.org/wiki/XML"
   ]
  },
  {
   "cell_type": "code",
   "execution_count": null,
   "metadata": {
    "id": "ryJXh8R2gLI7",
    "outputId": "d6e73503-ce96-48b5-ee7f-d4be31fe8ad8"
   },
   "outputs": [],
   "source": [
    "# 변수 df_list_all에 pandas의 xml 읽어오기 기능을 이용해 result의 text를 읽어옵니다.\n",
    "# df_list_all를 확인합니다.\n",
    "# df_list_all"
   ]
  },
  {
   "cell_type": "markdown",
   "metadata": {
    "id": "Csuho3b8gLI7"
   },
   "source": [
    "## 데이터 살펴보기"
   ]
  },
  {
   "cell_type": "markdown",
   "metadata": {
    "id": "p5AXgCrzgLI8"
   },
   "source": [
    "* 불러온 데이터를 살펴보겠습니다.\n",
    "* CODE의 값이 INFO-000이면 정상적으로 정보를 받은 것입니다."
   ]
  },
  {
   "cell_type": "code",
   "execution_count": null,
   "metadata": {
    "id": "FAawXs-AgLI8",
    "outputId": "f4fb04c6-4d76-4f1f-9a1e-9dfa4205c73b"
   },
   "outputs": [],
   "source": [
    "# df_list_all를 확인합니다.\n"
   ]
  },
  {
   "cell_type": "markdown",
   "metadata": {
    "id": "cC-RtfT5gLI8"
   },
   "source": [
    "* UPDATE_YMDHMS 변수는 이름으로 짐작할 때 정보가 업데이트 된 년, 월, 일, 시, 분, 초를 나타내는 시간 정보로 보여집니다."
   ]
  },
  {
   "cell_type": "markdown",
   "metadata": {
    "id": "mgBh1YAAgLI9"
   },
   "source": [
    "## 데이터 전처리 계획"
   ]
  },
  {
   "cell_type": "markdown",
   "metadata": {
    "id": "k1DQjYdxgLI9"
   },
   "source": [
    "* list_total_count, CODE, MESSAGE는 request에 대한 정보가 담겨있는 열입니다.\n",
    "* 나머지는 request한 요청에 대한 내용이 담겨있는 열입니다.\n",
    "* 성질이 전혀 다른 열이 한 데이터프레임에 담겨 있어 결측치가 많이 생겼습니다.\n",
    "\n",
    "* 현재 형태에서는 불필요한 NaN이나 None값이 불필요하게 많이 존재합니다.\n",
    "* 정보의 종류의 따라 두 개의 데이터프레임으로 분리하겠습니다.\n",
    "* list_total_count, CODE, MESSAGE는 request에 대한 상태를 나타내는 status 데이터프레임으로 분리하겠습니다.\n",
    "* 나머지는 요청에 대한 내용을 담고 있는 content 데이터프레임으로 분리하겠습니다.\n",
    "\n",
    "* FAQ_SEQNO와 LCODE 열은 각각 FAQ에 대한 코드명으로, 정수형으로 나타내는 것이 더 적절할 것 같습니다.\n",
    "* UPDATE_YMDHMS 열은 보기 더 편해졌지만, 아직도 날짜 형태 데이터가 아니라 실수형 데이터입니다.\n",
    "* UPDATE_YMDHMS를 날짜형 데이터로 바꿔주겠습니다."
   ]
  },
  {
   "cell_type": "markdown",
   "metadata": {
    "id": "krEMsVls2wSs"
   },
   "source": [
    "## 데이터 전처리하기"
   ]
  },
  {
   "cell_type": "code",
   "execution_count": null,
   "metadata": {
    "id": "lDCVK-gugLI-",
    "outputId": "4ca4ea96-6128-4d35-9a16-c55cd071bc26"
   },
   "outputs": [],
   "source": [
    "# df_list_status 변수에 list_total_count, CODE, MESSAGE에서 필요한 정보만 담은 데이터프레임을 담습니다.\n",
    "# df_list_status를 확인합니다.\n",
    "# df_list_status"
   ]
  },
  {
   "cell_type": "code",
   "execution_count": null,
   "metadata": {
    "id": "1azC73uGgLI-",
    "outputId": "9f91f124-911c-4ae4-bb51-f584176247c6",
    "scrolled": false
   },
   "outputs": [],
   "source": [
    "# df_list 변수에 나머지 열을 담은 데이터프레임을 담습니다.\n",
    "# df_list 를 확인합니다.\n",
    "# df_list "
   ]
  },
  {
   "cell_type": "code",
   "execution_count": null,
   "metadata": {
    "id": "lAteOoq0gLI-",
    "outputId": "98a3b3a6-a034-4f19-b928-796265ee3c4a"
   },
   "outputs": [],
   "source": [
    "# df_list 의 인덱스가 2부터 시작합니다. 인덱스를 초기화합니다.\n",
    "# FAQ_SEQNO을 정수형 데이터로 변경합니다.\n",
    "# LCODE를 정수형 데이터로 변경합니다.\n",
    "# UPDATE_YMDHMS를 문자열 데이터로 변경하고 13번째 문자까지만 갖도록 slicing 합니다.\n",
    "# UPDATE_YMDHMS를 pandas의 날짜 데이터 형식으로 변경합니다.\n",
    "# df_list 를 확인합니다.\n",
    "# df_list "
   ]
  },
  {
   "cell_type": "markdown",
   "metadata": {
    "id": "aq9-aXgD2wSw"
   },
   "source": [
    "## 내용 수집 연습"
   ]
  },
  {
   "cell_type": "markdown",
   "metadata": {
    "id": "llFHDwmTgLI_"
   },
   "source": [
    "* 서버에서 제공하는 sample code를 통해 FAQ 하나하나에 대한 정보를 불러오는 연습을 해보겠습니다.\n",
    "* http://openapi.seoul.go.kr:8088/sample/xml/SearchDetailsFAQService/1/5/F/\n",
    "* URL 에 들어가는 다음 문자의 의미입니다.\n",
    "* F : FAQ\n",
    "* S : 서울시 업무매뉴얼\n",
    "* J : 자치구 업무매뉴얼"
   ]
  },
  {
   "cell_type": "code",
   "execution_count": null,
   "metadata": {
    "id": "-fVtdRGB2wSw"
   },
   "outputs": [],
   "source": [
    "# 일련번호 289435를 faq_no 변수에 담아줍니다.\n",
    "# 요청할 url에 일련번호 faq_no를 삽입하여 detail_url 변수에 담아줍니다.\n",
    "faq_no = 289435\n",
    "detail_url = f\"http://openapi.seoul.go.kr:8088/sample/xml/SearchDetailsFAQService/1/5/F/{faq_no}\""
   ]
  },
  {
   "cell_type": "code",
   "execution_count": null,
   "metadata": {
    "id": "V_0wViOG2wSw"
   },
   "outputs": [],
   "source": [
    "# API 키를 이용해 결과를 받아옵니다.\n"
   ]
  },
  {
   "cell_type": "code",
   "execution_count": null,
   "metadata": {
    "id": "ZAGeld0jgLI_",
    "outputId": "d4990d1a-a736-4711-af16-8abcbf5c91f8"
   },
   "outputs": [],
   "source": [
    "# pandas의 xml 읽어오기 기능을 이용해 result의 text를 읽어오겠습니다.\n"
   ]
  },
  {
   "cell_type": "markdown",
   "metadata": {
    "id": "eCwbFHzV2wSx"
   },
   "source": [
    "## 특정 내용 읽어오기\n",
    "\n",
    "* sample code를 통해 학습한 내용을 바탕으로 df_list의 첫 행에 해당하는 FAQ의 정보를 요청해보겠습니다."
   ]
  },
  {
   "cell_type": "code",
   "execution_count": null,
   "metadata": {
    "id": "9KjRHLfM2wSx"
   },
   "outputs": [],
   "source": [
    "# df_list의 첫 행에 해당하는 내용을 읽어오겠습니다.\n",
    "# FAQ_TP에 df_list의 첫 행의 FAQ_TP의 값을 담아줍니다.\n",
    "# FAQ_SEQNO df_list의 첫 행의 FAQ_SEQNO 값을 담아줍니다.\n",
    "# FAQ_TP \n",
    "# FAQ_SEQNO"
   ]
  },
  {
   "cell_type": "code",
   "execution_count": null,
   "metadata": {
    "id": "OB_5loZ4gLJE",
    "outputId": "6aa50a8f-afc0-4956-bfdc-b5bcdefad43c",
    "scrolled": true
   },
   "outputs": [],
   "source": [
    "# FAQ_TP를 확인합니다.\n"
   ]
  },
  {
   "cell_type": "code",
   "execution_count": null,
   "metadata": {
    "id": "NA8INlHvgLJE",
    "outputId": "a3dc5d5f-cea2-4fb1-acd9-b69c4a17147a"
   },
   "outputs": [],
   "source": [
    "# FAQ_SEQNO를 확인합니다.\n"
   ]
  },
  {
   "cell_type": "code",
   "execution_count": null,
   "metadata": {
    "id": "RWUP_Qk72wSy"
   },
   "outputs": [],
   "source": [
    "# detail_url에 값을 요청할 url 정보를 담아줍니다.\n",
    "detail_url = f'http://openAPI.seoul.go.kr:8088/{auth_key}/xml/SearchDetailsFAQService/1/1/{FAQ_TP}/{FAQ_SEQNO}/'"
   ]
  },
  {
   "cell_type": "code",
   "execution_count": null,
   "metadata": {
    "id": "ExwmUvFV2wSy"
   },
   "outputs": [],
   "source": [
    "# API 키를 이용해 결과를 받아옵니다.\n"
   ]
  },
  {
   "cell_type": "code",
   "execution_count": null,
   "metadata": {
    "id": "PaEBR7fEgLJE",
    "outputId": "bdc1d492-7e15-491d-9593-324c7d4aee4e"
   },
   "outputs": [],
   "source": [
    "# pandas의 xml 읽어오기 기능을 이용해 result의 text를 읽어옵니다.\n"
   ]
  },
  {
   "cell_type": "markdown",
   "metadata": {
    "id": "Ou0pW1CL2wSz"
   },
   "source": [
    "## 내용 수집 함수 만들기\n",
    "\n",
    "* df_list 의 모든 열에 적용해야 하므로, 내용을 가져오는 함수를 작성하겠습니다."
   ]
  },
  {
   "cell_type": "code",
   "execution_count": null,
   "metadata": {
    "id": "fAFvYJqf2wSz"
   },
   "outputs": [],
   "source": [
    "# 특정 FAQ의 내용을 읽어오는 함수를 작성합니다.\n",
    "def get_content(FAQ_SEQNO):\n",
    "    '''FAQ_SEQNO로 ANSWER를 반환하는 함수\n",
    "    '''\n",
    "    "
   ]
  },
  {
   "cell_type": "markdown",
   "metadata": {
    "id": "BqgWRGd_2wSz"
   },
   "source": [
    "## 목록과 내용 합치기"
   ]
  },
  {
   "cell_type": "code",
   "execution_count": null,
   "metadata": {},
   "outputs": [],
   "source": []
  },
  {
   "cell_type": "code",
   "execution_count": null,
   "metadata": {},
   "outputs": [],
   "source": [
    "# df_faq에 ANSWER 열을 추가합니다.\n",
    "# df_faq"
   ]
  },
  {
   "cell_type": "code",
   "execution_count": null,
   "metadata": {},
   "outputs": [],
   "source": [
    "# df_faq[\"ANSWER\"]"
   ]
  },
  {
   "cell_type": "code",
   "execution_count": null,
   "metadata": {
    "id": "crxzKOw02wS0",
    "outputId": "80ef25dc-53ea-4f80-e150-8f82842ec661"
   },
   "outputs": [],
   "source": [
    "# df_faq를 확인합니다.\n"
   ]
  },
  {
   "cell_type": "markdown",
   "metadata": {
    "id": "NYwEnzOr2wS0"
   },
   "source": [
    "## 파일로 저장하기"
   ]
  },
  {
   "cell_type": "code",
   "execution_count": null,
   "metadata": {
    "id": "-ML3JK5M2wS0"
   },
   "outputs": [],
   "source": [
    "# 저장할 파일명을 \"seoul-120-API.csv\"로 지정합니다.\n",
    "file_name = 'seoul-120-API.csv'"
   ]
  },
  {
   "cell_type": "code",
   "execution_count": null,
   "metadata": {
    "id": "hf9Vmuwi2wS0"
   },
   "outputs": [],
   "source": [
    "# csv 파일로 저장합니다.\n"
   ]
  },
  {
   "cell_type": "code",
   "execution_count": null,
   "metadata": {
    "id": "T2kl7IVw2wS1",
    "outputId": "a8475e1f-3802-4481-c32b-2de04e51445b"
   },
   "outputs": [],
   "source": [
    "# 저장이 잘 되었는지 csv 파일로 읽어옵니다.\n"
   ]
  },
  {
   "cell_type": "code",
   "execution_count": null,
   "metadata": {},
   "outputs": [],
   "source": []
  }
 ],
 "metadata": {
  "colab": {
   "collapsed_sections": [],
   "name": "3. API.ipynb",
   "provenance": []
  },
  "kernelspec": {
   "display_name": "likelion",
   "language": "python",
   "name": "python3"
  },
  "language_info": {
   "codemirror_mode": {
    "name": "ipython",
    "version": 3
   },
   "file_extension": ".py",
   "mimetype": "text/x-python",
   "name": "python",
   "nbconvert_exporter": "python",
   "pygments_lexer": "ipython3",
   "version": "3.11.0 | packaged by conda-forge | (main, Jan 14 2023, 12:27:40) [GCC 11.3.0]"
  },
  "toc": {
   "base_numbering": 1,
   "nav_menu": {},
   "number_sections": true,
   "sideBar": true,
   "skip_h1_title": false,
   "title_cell": "Table of Contents",
   "title_sidebar": "Contents",
   "toc_cell": false,
   "toc_position": {},
   "toc_section_display": true,
   "toc_window_display": false
  },
  "varInspector": {
   "cols": {
    "lenName": 16,
    "lenType": 16,
    "lenVar": 40
   },
   "kernels_config": {
    "python": {
     "delete_cmd_postfix": "",
     "delete_cmd_prefix": "del ",
     "library": "var_list.py",
     "varRefreshCmd": "print(var_dic_list())"
    },
    "r": {
     "delete_cmd_postfix": ") ",
     "delete_cmd_prefix": "rm(",
     "library": "var_list.r",
     "varRefreshCmd": "cat(var_dic_list()) "
    }
   },
   "types_to_exclude": [
    "module",
    "function",
    "builtin_function_or_method",
    "instance",
    "_Feature"
   ],
   "window_display": false
  },
  "vscode": {
   "interpreter": {
    "hash": "2bbe097e0ffc8eab4136e166ac6c6e427d24093831671f2d4e24e77482d6e0ae"
   }
  }
 },
 "nbformat": 4,
 "nbformat_minor": 1
}
