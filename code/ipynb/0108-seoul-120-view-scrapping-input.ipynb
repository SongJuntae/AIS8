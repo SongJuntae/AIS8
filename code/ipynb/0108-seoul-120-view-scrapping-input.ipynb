{
 "cells": [
  {
   "cell_type": "markdown",
   "metadata": {
    "id": "TLZrYq-pynC7"
   },
   "source": [
    "## 서울특별시 다산콜센터(☎120)의 주요 민원\n",
    "* 서울특별시 다산콜센터(☎120)의 주요 민원(자주 묻는 질문)에 대한 답변정보\n",
    "* https://opengov.seoul.go.kr/civilappeal/list"
   ]
  },
  {
   "cell_type": "code",
   "execution_count": null,
   "metadata": {
    "id": "7gpJ0R8CynDC"
   },
   "outputs": [],
   "source": [
    "# 필요한 라이브러리들을 불러옵니다.\n",
    "# pandas : 파이썬에서 사용할 수 있는 엑셀과 유사한 데이터분석 도구입니다.\n",
    "# requests : 매우 작은 브라우저로 웹사이트의 내용과 정보를 불러옵니다.\n",
    "# BeautifulSoup : request로 가져온 웹사이트의 html 태그를 찾기 위해 사용합니다.\n",
    "# time : 한 번에 많은 양의 데이터를 가져오게 되면 서버에서 부담을주기 때문에 시간 간격을 두고 가져오기 위해 사용합니다.\n"
   ]
  },
  {
   "cell_type": "code",
   "execution_count": null,
   "metadata": {
    "colab": {
     "base_uri": "https://localhost:8080/"
    },
    "id": "GRCAurraynDG",
    "outputId": "ae9cb06c-217a-441b-d752-9a9c687070ff"
   },
   "outputs": [],
   "source": [
    "# 수집해온 파일(\"seoul-120-list.csv\")을 읽어옵니다.\n"
   ]
  },
  {
   "cell_type": "markdown",
   "metadata": {
    "id": "yXhyiiFQynDI"
   },
   "source": [
    "## 일부 데이터를 우선 수집\n",
    "* 현업에서는 모든 데이터를 수집해야 하지만 모든 데이터 수집시 서버에 부담이 될 수 있으며 오래 걸립니다.\n",
    "* 또 동작하지 않거나 잘못 수집을 했다면 처음부터 다시 수집해야 하기 때문에 일부 데이터만을 통해 먼저 수집해 보는 것을 추천합니다.\n",
    "* 일부 데이터를 먼저 수집해 보고 데이터가 필요할 때 전체를 수집해 봅니다."
   ]
  },
  {
   "cell_type": "code",
   "execution_count": null,
   "metadata": {
    "colab": {
     "base_uri": "https://localhost:8080/",
     "height": 363
    },
    "id": "POYTIK8OynDI",
    "outputId": "83fd929d-9916-45be-9ab0-e346a2e0f780"
   },
   "outputs": [],
   "source": [
    "# head 로 일부 데이터만 가져와서 먼저 수집해 봅니다.\n"
   ]
  },
  {
   "cell_type": "markdown",
   "metadata": {
    "id": "ZfHdymMaynDK"
   },
   "source": [
    "## 특정 내용 읽어오기\n",
    "* 내용의 URL을 확인합니다.\n",
    "* requests를 통해 내용에 접근합니다.\n",
    "* BeautifulSoup의 select를 사용해 내용이 있는 태그를 찾습니다.\n"
   ]
  },
  {
   "cell_type": "code",
   "execution_count": null,
   "metadata": {
    "colab": {
     "base_uri": "https://localhost:8080/",
     "height": 71
    },
    "id": "GimSbmtSynDL",
    "outputId": "6fd337db-abc2-4040-a0e7-9292ce326ead",
    "scrolled": false
   },
   "outputs": [],
   "source": [
    "# 내용 페이지의 주소를 url 변수에 담아줍니다.\n",
    "# 웹페이지의 결과를 받아옵니다.\n",
    "# BeautifulSoup을 통해 lxml로 파싱해 올 수 있도록 합니다.\n",
    "# html 태그에서 \"div.line-all\"의 0번째 값을 선택(select)하여 text를 확인합니다. \n",
    "\n",
    "# url"
   ]
  },
  {
   "cell_type": "code",
   "execution_count": null,
   "metadata": {
    "colab": {
     "base_uri": "https://localhost:8080/",
     "height": 143
    },
    "id": "-UfQ1whY1WU0",
    "outputId": "d9af1a7b-1b7c-4d8d-ddb5-b9c313c0d3a4"
   },
   "outputs": [],
   "source": [
    "# tb01\n",
    "# tb02\n"
   ]
  },
  {
   "cell_type": "code",
   "execution_count": null,
   "metadata": {
    "colab": {
     "base_uri": "https://localhost:8080/",
     "height": 81
    },
    "id": "qGDxO3Vl3ZTs",
    "outputId": "809b6da3-8d82-4970-dba0-4c4e6048ab50"
   },
   "outputs": [],
   "source": [
    "# 전치행렬 transpose() == T 를 하기 위해 인덱스를 설정해 주었습니다.\n",
    "# 전치행렬을 했을 때 index <=> columns 위치가 변경되기 때문에 인덱스로 설정해 주었습니다.\n"
   ]
  },
  {
   "cell_type": "code",
   "execution_count": null,
   "metadata": {
    "colab": {
     "base_uri": "https://localhost:8080/"
    },
    "id": "yA0VqCBx6rdo",
    "outputId": "c56eb242-b6ad-4e9a-dd1e-0e884d6fe7ac"
   },
   "outputs": [],
   "source": []
  },
  {
   "cell_type": "code",
   "execution_count": null,
   "metadata": {
    "colab": {
     "base_uri": "https://localhost:8080/",
     "height": 81
    },
    "id": "-iG8ZXj6ynDM",
    "outputId": "b6553b03-3f1c-492c-8802-f3e477f952ba"
   },
   "outputs": [],
   "source": [
    "# 해당 문의가 어떤 분류에 해당되는지 알기 위해 분류를 수집합니다.\n",
    "def get_desc(response):\n",
    "    \"\"\" 분류 수집하기 \n",
    "    1) 테이블의 0, 1 번째 데이터 가져와서 0번째 컬럼을 인덱스로 만들고 전치행렬 만들기\n",
    "    2) 테이블의 2, 3 번째 데이터 가져와서 2번째 컬럼을 인덱스로 만들고 전치행렬 만들기\n",
    "    3) 1), 2) 번에서 만든 값을 concat으로 병합하기\n",
    "    4) 병합한 값 반환하기\n",
    "    \"\"\"\n",
    "    \n",
    "    \n",
    "# 함수가 잘 만들어졌는지 확인하기\n",
    "get_desc(response)"
   ]
  },
  {
   "cell_type": "markdown",
   "metadata": {
    "id": "eoYRVl9XynDN"
   },
   "source": [
    "## 내용 수집 함수 만들기"
   ]
  },
  {
   "cell_type": "code",
   "execution_count": null,
   "metadata": {
    "id": "6dNT7xFjynDO"
   },
   "outputs": [],
   "source": [
    "# 위의 전체 과정을 함수로 만들어 봅니다.\n",
    "\n",
    "def get_view_page(view_no):\n",
    "    \"\"\" \n",
    "    내용과 분류를 수집하는 함수 만들기\n",
    "    1) url을 만들어 줍니다.\n",
    "    2) requests 로 요청을 보냅니다.\n",
    "    3) 분류를 수집하는 함수에 response 값을 넘겨 분류와 제공부서 등이 들어있는 데이터프레임을 반환 받습니다.\n",
    "    4) 내용을 bs 으로 텍스트만 추출합니다.\n",
    "    5) 3)번 내용에 내용, 내용번호를 함께 데이터프레임에 추가합니다.\n",
    "    6) 반복문 대신 map이나 apply를 사용할 것이기 때문에 time.sleep으로 쉬도록 합니다.\n",
    "    7) 5번까지 수집한 내용을 반환하도록 합니다.\n",
    "    \"\"\"\n",
    "    "
   ]
  },
  {
   "cell_type": "code",
   "execution_count": null,
   "metadata": {
    "colab": {
     "base_uri": "https://localhost:8080/",
     "height": 81
    },
    "id": "_jbwzga0ynDO",
    "outputId": "03715c1b-d27e-4819-c0b9-fb53aa1d2f0e"
   },
   "outputs": [],
   "source": [
    "# 없는 데이터를 불러왔을 때 오류가 나는지 확인\n",
    "# view_no가 22904492 인 것을 get_view_page()로 확인해 봅니다.\n",
    "get_view_page(view_no=?)"
   ]
  },
  {
   "cell_type": "markdown",
   "metadata": {
    "id": "ld-tG13HynDP"
   },
   "source": [
    "## 전체 내용 가져오기\n",
    "* <font color=\"red\">실습을 위해 위에서 일부 데이터만 가져왔습니다.</font>\n",
    "* 전체 데이터 수집시에서 전체 수집한 데이터로 수집을 진행하면 됩니다.\n",
    "* 전체 데이터 수집시에는 서버에 부담이 가지 않도록 time.sleep()을 통해 간격을 두고 수집해 주세요."
   ]
  },
  {
   "cell_type": "code",
   "execution_count": null,
   "metadata": {
    "colab": {
     "base_uri": "https://localhost:8080/",
     "height": 363
    },
    "id": "9fe5bduh-MzN",
    "outputId": "5e306c31-f283-464c-c50c-c4e0a97a5e5a"
   },
   "outputs": [],
   "source": [
    "# df[\"생산연도\"]"
   ]
  },
  {
   "cell_type": "code",
   "execution_count": null,
   "metadata": {
    "id": "t_i17nIGgB1f"
   },
   "outputs": [],
   "source": [
    "# get_view_page??"
   ]
  },
  {
   "cell_type": "code",
   "execution_count": null,
   "metadata": {
    "colab": {
     "base_uri": "https://localhost:8080/",
     "height": 49,
     "referenced_widgets": [
      "0eafd2b91fb046bba0b67e8f15cef0eb",
      "a9e3c6481ab24c32aea182e913379765",
      "eec429344a70434bb45cdca22f6f44e8",
      "3b98f32584c54235b62554f52143f5c7",
      "f686192c6ffd4ad99a196426260c6810",
      "b917218d5ee347bb992e93dedf181620",
      "c37ba79be31345e48a281d87d3d0e6fe",
      "0a3db6febcee4e67bfea9fa045c6f24e",
      "d386f3e18dc84ecaa4a19fa7370b94da",
      "58f1ce63a43f4732bce28acda685ab0c",
      "4f2de7006d464ab4a5e7f658aa61318c"
     ]
    },
    "id": "BCRuR9HFynDP",
    "outputId": "c86667af-21ac-4d71-c973-179b3ae6afeb",
    "scrolled": false
   },
   "outputs": [],
   "source": [
    "# tqdm.notebook 의 tqdm 을 통해 수집 진행상태를 확인합니다.\n",
    "# progress_apply 를 사용하면 진행상태를 확인하며 데이터를 가져올 수 있습니다.\n",
    "from tqdm.notebook import tqdm\n",
    "tqdm.pandas()\n",
    "\n",
    "view_detail "
   ]
  },
  {
   "cell_type": "markdown",
   "metadata": {
    "id": "yecPuZRsynDQ"
   },
   "source": [
    "## 수집한 내용 확인하기"
   ]
  },
  {
   "cell_type": "code",
   "execution_count": null,
   "metadata": {
    "colab": {
     "base_uri": "https://localhost:8080/"
    },
    "id": "7YgaOW-uynDQ",
    "outputId": "58f7240c-b4ed-465c-cc2a-e9364b97bd43",
    "scrolled": true
   },
   "outputs": [],
   "source": [
    "# 일부 데이터만 슬라이싱하여 살펴봅니다.\n"
   ]
  },
  {
   "cell_type": "code",
   "execution_count": null,
   "metadata": {
    "colab": {
     "base_uri": "https://localhost:8080/",
     "height": 81
    },
    "id": "WeFFag4jynDQ",
    "outputId": "97ff71c8-6d92-4b1f-eb33-46ac27bdbf0b"
   },
   "outputs": [],
   "source": [
    "# 하나만 가져오면 데이터프레임 형태로 되어 있음을 확인합니다.\n"
   ]
  },
  {
   "cell_type": "markdown",
   "metadata": {
    "id": "pNHxbWSrynDR"
   },
   "source": [
    "## 하나로 병합하기"
   ]
  },
  {
   "cell_type": "code",
   "execution_count": null,
   "metadata": {
    "colab": {
     "base_uri": "https://localhost:8080/",
     "height": 598
    },
    "id": "qlvAy7PqynDR",
    "outputId": "c8645546-a505-455e-ea20-515ad7cae62c"
   },
   "outputs": [],
   "source": [
    "# 수집한 내용을 tolist() 를 통해 리스트로 변환 후 concat 으로 병합합니다.\n",
    "# df_view\n"
   ]
  },
  {
   "cell_type": "code",
   "execution_count": null,
   "metadata": {
    "colab": {
     "base_uri": "https://localhost:8080/",
     "height": 598
    },
    "id": "ObcuAGQgynDR",
    "outputId": "70418c18-d7c6-4c95-8bc5-c9cfbfe9e65a"
   },
   "outputs": [],
   "source": [
    "# 기존 데이터와 병합하여 내용이 함께 수집된 것을 확인합니다.\n",
    "# df_detail"
   ]
  },
  {
   "cell_type": "markdown",
   "metadata": {
    "id": "-PRVRFl8ynDS"
   },
   "source": [
    "## 사용할 컬럼만 남기기"
   ]
  },
  {
   "cell_type": "code",
   "execution_count": null,
   "metadata": {
    "colab": {
     "base_uri": "https://localhost:8080/",
     "height": 363
    },
    "id": "Izm1ToHnynDS",
    "outputId": "965abbbb-825a-497d-df41-8cebed33038b"
   },
   "outputs": [],
   "source": [
    "# 제목 뒤에 문서가 보이도록 컬럼의 순서를 조정합니다.\n",
    "# 사용할 컬럼만 인덱싱 합니다.\n",
    "# 다음의 순서가 되게 합니다. '번호', '분류', '제목', '내용', '내용번호'\n"
   ]
  },
  {
   "cell_type": "markdown",
   "metadata": {
    "id": "EwgVrIF1ynDT"
   },
   "source": [
    "## 파일로 저장하고 확인하기\n",
    "\n",
    "<img src=\"https://pandas.pydata.org/docs/_images/02_io_readwrite.svg\">"
   ]
  },
  {
   "cell_type": "code",
   "execution_count": null,
   "metadata": {
    "id": "n_HQfR2jynDT"
   },
   "outputs": [],
   "source": [
    "# 저장할 파일명을 \"seoul-120-sample.csv\" 로 설정해 줍니다.\n",
    "file_name = \"seoul-120-sample.csv\""
   ]
  },
  {
   "cell_type": "code",
   "execution_count": null,
   "metadata": {
    "id": "o0BZSVXkynDT"
   },
   "outputs": [],
   "source": [
    "# csv 파일로 저장합니다.\n"
   ]
  },
  {
   "cell_type": "code",
   "execution_count": null,
   "metadata": {
    "colab": {
     "base_uri": "https://localhost:8080/",
     "height": 363
    },
    "id": "I8N98oVvynDU",
    "outputId": "769f76d2-5c14-4502-ddcd-0cf19a49066b"
   },
   "outputs": [],
   "source": [
    "# 저장이 잘 되었는지 csv 파일로 읽어옵니다.\n"
   ]
  },
  {
   "cell_type": "code",
   "execution_count": null,
   "metadata": {
    "id": "m8zC76UnynDU"
   },
   "outputs": [],
   "source": []
  },
  {
   "cell_type": "code",
   "execution_count": null,
   "metadata": {
    "id": "PKlcJsNaynDU"
   },
   "outputs": [],
   "source": []
  }
 ],
 "metadata": {
  "colab": {
   "provenance": []
  },
  "kernelspec": {
   "display_name": "Python 3",
   "language": "python",
   "name": "python3"
  },
  "language_info": {
   "codemirror_mode": {
    "name": "ipython",
    "version": 3
   },
   "file_extension": ".py",
   "mimetype": "text/x-python",
   "name": "python",
   "nbconvert_exporter": "python",
   "pygments_lexer": "ipython3",
   "version": "3.8.5 (default, Jul 28 2020, 12:59:40) \n[GCC 9.3.0]"
  },
  "toc": {
   "base_numbering": 1,
   "nav_menu": {},
   "number_sections": true,
   "sideBar": true,
   "skip_h1_title": false,
   "title_cell": "Table of Contents",
   "title_sidebar": "Contents",
   "toc_cell": false,
   "toc_position": {},
   "toc_section_display": true,
   "toc_window_display": false
  },
  "varInspector": {
   "cols": {
    "lenName": 16,
    "lenType": 16,
    "lenVar": 40
   },
   "kernels_config": {
    "python": {
     "delete_cmd_postfix": "",
     "delete_cmd_prefix": "del ",
     "library": "var_list.py",
     "varRefreshCmd": "print(var_dic_list())"
    },
    "r": {
     "delete_cmd_postfix": ") ",
     "delete_cmd_prefix": "rm(",
     "library": "var_list.r",
     "varRefreshCmd": "cat(var_dic_list()) "
    }
   },
   "types_to_exclude": [
    "module",
    "function",
    "builtin_function_or_method",
    "instance",
    "_Feature"
   ],
   "window_display": false
  },
  "vscode": {
   "interpreter": {
    "hash": "916dbcbb3f70747c44a77c7bcd40155683ae19c65e1c03b4aa3499c5328201f1"
   }
  },
  "widgets": {
   "application/vnd.jupyter.widget-state+json": {
    "0a3db6febcee4e67bfea9fa045c6f24e": {
     "model_module": "@jupyter-widgets/base",
     "model_module_version": "1.2.0",
     "model_name": "LayoutModel",
     "state": {
      "_model_module": "@jupyter-widgets/base",
      "_model_module_version": "1.2.0",
      "_model_name": "LayoutModel",
      "_view_count": null,
      "_view_module": "@jupyter-widgets/base",
      "_view_module_version": "1.2.0",
      "_view_name": "LayoutView",
      "align_content": null,
      "align_items": null,
      "align_self": null,
      "border": null,
      "bottom": null,
      "display": null,
      "flex": null,
      "flex_flow": null,
      "grid_area": null,
      "grid_auto_columns": null,
      "grid_auto_flow": null,
      "grid_auto_rows": null,
      "grid_column": null,
      "grid_gap": null,
      "grid_row": null,
      "grid_template_areas": null,
      "grid_template_columns": null,
      "grid_template_rows": null,
      "height": null,
      "justify_content": null,
      "justify_items": null,
      "left": null,
      "margin": null,
      "max_height": null,
      "max_width": null,
      "min_height": null,
      "min_width": null,
      "object_fit": null,
      "object_position": null,
      "order": null,
      "overflow": null,
      "overflow_x": null,
      "overflow_y": null,
      "padding": null,
      "right": null,
      "top": null,
      "visibility": null,
      "width": null
     }
    },
    "0eafd2b91fb046bba0b67e8f15cef0eb": {
     "model_module": "@jupyter-widgets/controls",
     "model_module_version": "1.5.0",
     "model_name": "HBoxModel",
     "state": {
      "_dom_classes": [],
      "_model_module": "@jupyter-widgets/controls",
      "_model_module_version": "1.5.0",
      "_model_name": "HBoxModel",
      "_view_count": null,
      "_view_module": "@jupyter-widgets/controls",
      "_view_module_version": "1.5.0",
      "_view_name": "HBoxView",
      "box_style": "",
      "children": [
       "IPY_MODEL_a9e3c6481ab24c32aea182e913379765",
       "IPY_MODEL_eec429344a70434bb45cdca22f6f44e8",
       "IPY_MODEL_3b98f32584c54235b62554f52143f5c7"
      ],
      "layout": "IPY_MODEL_f686192c6ffd4ad99a196426260c6810"
     }
    },
    "3b98f32584c54235b62554f52143f5c7": {
     "model_module": "@jupyter-widgets/controls",
     "model_module_version": "1.5.0",
     "model_name": "HTMLModel",
     "state": {
      "_dom_classes": [],
      "_model_module": "@jupyter-widgets/controls",
      "_model_module_version": "1.5.0",
      "_model_name": "HTMLModel",
      "_view_count": null,
      "_view_module": "@jupyter-widgets/controls",
      "_view_module_version": "1.5.0",
      "_view_name": "HTMLView",
      "description": "",
      "description_tooltip": null,
      "layout": "IPY_MODEL_58f1ce63a43f4732bce28acda685ab0c",
      "placeholder": "​",
      "style": "IPY_MODEL_4f2de7006d464ab4a5e7f658aa61318c",
      "value": " 10/10 [00:17&lt;00:00,  1.71s/it]"
     }
    },
    "4f2de7006d464ab4a5e7f658aa61318c": {
     "model_module": "@jupyter-widgets/controls",
     "model_module_version": "1.5.0",
     "model_name": "DescriptionStyleModel",
     "state": {
      "_model_module": "@jupyter-widgets/controls",
      "_model_module_version": "1.5.0",
      "_model_name": "DescriptionStyleModel",
      "_view_count": null,
      "_view_module": "@jupyter-widgets/base",
      "_view_module_version": "1.2.0",
      "_view_name": "StyleView",
      "description_width": ""
     }
    },
    "58f1ce63a43f4732bce28acda685ab0c": {
     "model_module": "@jupyter-widgets/base",
     "model_module_version": "1.2.0",
     "model_name": "LayoutModel",
     "state": {
      "_model_module": "@jupyter-widgets/base",
      "_model_module_version": "1.2.0",
      "_model_name": "LayoutModel",
      "_view_count": null,
      "_view_module": "@jupyter-widgets/base",
      "_view_module_version": "1.2.0",
      "_view_name": "LayoutView",
      "align_content": null,
      "align_items": null,
      "align_self": null,
      "border": null,
      "bottom": null,
      "display": null,
      "flex": null,
      "flex_flow": null,
      "grid_area": null,
      "grid_auto_columns": null,
      "grid_auto_flow": null,
      "grid_auto_rows": null,
      "grid_column": null,
      "grid_gap": null,
      "grid_row": null,
      "grid_template_areas": null,
      "grid_template_columns": null,
      "grid_template_rows": null,
      "height": null,
      "justify_content": null,
      "justify_items": null,
      "left": null,
      "margin": null,
      "max_height": null,
      "max_width": null,
      "min_height": null,
      "min_width": null,
      "object_fit": null,
      "object_position": null,
      "order": null,
      "overflow": null,
      "overflow_x": null,
      "overflow_y": null,
      "padding": null,
      "right": null,
      "top": null,
      "visibility": null,
      "width": null
     }
    },
    "a9e3c6481ab24c32aea182e913379765": {
     "model_module": "@jupyter-widgets/controls",
     "model_module_version": "1.5.0",
     "model_name": "HTMLModel",
     "state": {
      "_dom_classes": [],
      "_model_module": "@jupyter-widgets/controls",
      "_model_module_version": "1.5.0",
      "_model_name": "HTMLModel",
      "_view_count": null,
      "_view_module": "@jupyter-widgets/controls",
      "_view_module_version": "1.5.0",
      "_view_name": "HTMLView",
      "description": "",
      "description_tooltip": null,
      "layout": "IPY_MODEL_b917218d5ee347bb992e93dedf181620",
      "placeholder": "​",
      "style": "IPY_MODEL_c37ba79be31345e48a281d87d3d0e6fe",
      "value": "100%"
     }
    },
    "b917218d5ee347bb992e93dedf181620": {
     "model_module": "@jupyter-widgets/base",
     "model_module_version": "1.2.0",
     "model_name": "LayoutModel",
     "state": {
      "_model_module": "@jupyter-widgets/base",
      "_model_module_version": "1.2.0",
      "_model_name": "LayoutModel",
      "_view_count": null,
      "_view_module": "@jupyter-widgets/base",
      "_view_module_version": "1.2.0",
      "_view_name": "LayoutView",
      "align_content": null,
      "align_items": null,
      "align_self": null,
      "border": null,
      "bottom": null,
      "display": null,
      "flex": null,
      "flex_flow": null,
      "grid_area": null,
      "grid_auto_columns": null,
      "grid_auto_flow": null,
      "grid_auto_rows": null,
      "grid_column": null,
      "grid_gap": null,
      "grid_row": null,
      "grid_template_areas": null,
      "grid_template_columns": null,
      "grid_template_rows": null,
      "height": null,
      "justify_content": null,
      "justify_items": null,
      "left": null,
      "margin": null,
      "max_height": null,
      "max_width": null,
      "min_height": null,
      "min_width": null,
      "object_fit": null,
      "object_position": null,
      "order": null,
      "overflow": null,
      "overflow_x": null,
      "overflow_y": null,
      "padding": null,
      "right": null,
      "top": null,
      "visibility": null,
      "width": null
     }
    },
    "c37ba79be31345e48a281d87d3d0e6fe": {
     "model_module": "@jupyter-widgets/controls",
     "model_module_version": "1.5.0",
     "model_name": "DescriptionStyleModel",
     "state": {
      "_model_module": "@jupyter-widgets/controls",
      "_model_module_version": "1.5.0",
      "_model_name": "DescriptionStyleModel",
      "_view_count": null,
      "_view_module": "@jupyter-widgets/base",
      "_view_module_version": "1.2.0",
      "_view_name": "StyleView",
      "description_width": ""
     }
    },
    "d386f3e18dc84ecaa4a19fa7370b94da": {
     "model_module": "@jupyter-widgets/controls",
     "model_module_version": "1.5.0",
     "model_name": "ProgressStyleModel",
     "state": {
      "_model_module": "@jupyter-widgets/controls",
      "_model_module_version": "1.5.0",
      "_model_name": "ProgressStyleModel",
      "_view_count": null,
      "_view_module": "@jupyter-widgets/base",
      "_view_module_version": "1.2.0",
      "_view_name": "StyleView",
      "bar_color": null,
      "description_width": ""
     }
    },
    "eec429344a70434bb45cdca22f6f44e8": {
     "model_module": "@jupyter-widgets/controls",
     "model_module_version": "1.5.0",
     "model_name": "FloatProgressModel",
     "state": {
      "_dom_classes": [],
      "_model_module": "@jupyter-widgets/controls",
      "_model_module_version": "1.5.0",
      "_model_name": "FloatProgressModel",
      "_view_count": null,
      "_view_module": "@jupyter-widgets/controls",
      "_view_module_version": "1.5.0",
      "_view_name": "ProgressView",
      "bar_style": "success",
      "description": "",
      "description_tooltip": null,
      "layout": "IPY_MODEL_0a3db6febcee4e67bfea9fa045c6f24e",
      "max": 10,
      "min": 0,
      "orientation": "horizontal",
      "style": "IPY_MODEL_d386f3e18dc84ecaa4a19fa7370b94da",
      "value": 10
     }
    },
    "f686192c6ffd4ad99a196426260c6810": {
     "model_module": "@jupyter-widgets/base",
     "model_module_version": "1.2.0",
     "model_name": "LayoutModel",
     "state": {
      "_model_module": "@jupyter-widgets/base",
      "_model_module_version": "1.2.0",
      "_model_name": "LayoutModel",
      "_view_count": null,
      "_view_module": "@jupyter-widgets/base",
      "_view_module_version": "1.2.0",
      "_view_name": "LayoutView",
      "align_content": null,
      "align_items": null,
      "align_self": null,
      "border": null,
      "bottom": null,
      "display": null,
      "flex": null,
      "flex_flow": null,
      "grid_area": null,
      "grid_auto_columns": null,
      "grid_auto_flow": null,
      "grid_auto_rows": null,
      "grid_column": null,
      "grid_gap": null,
      "grid_row": null,
      "grid_template_areas": null,
      "grid_template_columns": null,
      "grid_template_rows": null,
      "height": null,
      "justify_content": null,
      "justify_items": null,
      "left": null,
      "margin": null,
      "max_height": null,
      "max_width": null,
      "min_height": null,
      "min_width": null,
      "object_fit": null,
      "object_position": null,
      "order": null,
      "overflow": null,
      "overflow_x": null,
      "overflow_y": null,
      "padding": null,
      "right": null,
      "top": null,
      "visibility": null,
      "width": null
     }
    }
   }
  }
 },
 "nbformat": 4,
 "nbformat_minor": 1
}
